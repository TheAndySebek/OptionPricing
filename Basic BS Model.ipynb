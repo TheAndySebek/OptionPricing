{
 "cells": [
  {
   "cell_type": "code",
   "execution_count": 5,
   "id": "d097611e-65a6-480b-b1c4-ebb91a000d55",
   "metadata": {},
   "outputs": [],
   "source": [
    "# Add Packages\n",
    "import numpy as np\n",
    "import pandas as pd\n",
    "from scipy.stats import norm"
   ]
  },
  {
   "cell_type": "code",
   "execution_count": 17,
   "id": "1818983e-30c4-4fbf-8a50-49c0cf2713b6",
   "metadata": {},
   "outputs": [
    {
     "name": "stdin",
     "output_type": "stream",
     "text": [
      "Input Interest Rate: .05\n",
      "Input Initial Price of Underlying: 100\n",
      "Input Srike Price: 120\n",
      "Days to Expiry: 100\n",
      "Volatility Measure: 1.69\n",
      "Please Indicate 'Call' or 'Stock' option Call\n"
     ]
    }
   ],
   "source": [
    "# Taking the inputs for B-S and converting to integers\n",
    "rate = float(input(\"Input Interest Rate:\"))\n",
    "Initial_Stock = float(input(\"Input Initial Price of Underlying:\"))\n",
    "Strike = float(input(\"Input Srike Price:\"))\n",
    "# We assume there are 252 trading days in a year! \n",
    "Time = int(input(\"Days to Expiry:\"))/252\n",
    "Sigma = float(input(\"Volatility Measure:\"))\n",
    "Type = str(input(\"Please Indicate 'Call' or 'Stock' option\"))\n",
    "        "
   ]
  },
  {
   "cell_type": "code",
   "execution_count": 27,
   "id": "1f5c1932-9a5d-4d14-b2e1-58938b951328",
   "metadata": {},
   "outputs": [
    {
     "name": "stdout",
     "output_type": "stream",
     "text": [
      "The option price is 35.77\n"
     ]
    }
   ],
   "source": [
    "def BlackScholes(rate,Initial_Stock,Strike,Time,Sigma,Type = \"Call\"):\n",
    "    # d1 is the 'z-score' that dictates the expected payoff given the option is exercised. That is, if we make a profit, what will it be?\n",
    "    d1 = (np.log(Initial_Stock/Strike) + (rate + .5*(Sigma**2))*Time)/(Sigma*np.sqrt(Time))\n",
    "    # d2 is the 'z-score' of the risk-neutral probability that the option will be exercised.\n",
    "    d2 = d1 - Sigma*np.sqrt(Time)\n",
    "    try:\n",
    "        if Type == \"Call\":\n",
    "            price = Initial_Stock * norm.cdf(d1, 0, 1) - Strike*np.exp(-rate*Time) * norm.cdf(d2, 0, 1)\n",
    "        elif Type == \"Put\":\n",
    "            price = Strike*np.exp(-rate*Time) * norm.cdf(-d2, 0, 1) - Initial_Stock * norm.cdf(-d1, 0, 1)\n",
    "        return(price)\n",
    "    except:\n",
    "        print(\"Please reevaluate input parameters\")\n",
    "print(\"The option price is\", float(round(BlackScholes(rate,Initial_Stock,Strike,Time,Sigma,Type),2)))"
   ]
  },
  {
   "cell_type": "code",
   "execution_count": null,
   "id": "c949b76a-6e0f-4973-8577-c554ab062192",
   "metadata": {},
   "outputs": [],
   "source": []
  }
 ],
 "metadata": {
  "kernelspec": {
   "display_name": "Python 3 (ipykernel)",
   "language": "python",
   "name": "python3"
  },
  "language_info": {
   "codemirror_mode": {
    "name": "ipython",
    "version": 3
   },
   "file_extension": ".py",
   "mimetype": "text/x-python",
   "name": "python",
   "nbconvert_exporter": "python",
   "pygments_lexer": "ipython3",
   "version": "3.12.7"
  }
 },
 "nbformat": 4,
 "nbformat_minor": 5
}
